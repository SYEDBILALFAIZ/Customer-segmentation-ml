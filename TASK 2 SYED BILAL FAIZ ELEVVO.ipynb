{
 "cells": [
  {
   "cell_type": "code",
   "execution_count": 9,
   "id": "6859037a-df60-4f33-ace5-01df9aff47b7",
   "metadata": {},
   "outputs": [
    {
     "name": "stdout",
     "output_type": "stream",
     "text": [
      "     ID  Year_Birth   Education Marital_Status   Income  Kidhome  Teenhome  \\\n",
      "0  5524        1957  Graduation         Single  58138.0        0         0   \n",
      "1  2174        1954  Graduation         Single  46344.0        1         1   \n",
      "2  4141        1965  Graduation       Together  71613.0        0         0   \n",
      "3  6182        1984  Graduation       Together  26646.0        1         0   \n",
      "4  5324        1981         PhD        Married  58293.0        1         0   \n",
      "\n",
      "  Dt_Customer  Recency  MntWines  ...  NumWebVisitsMonth  AcceptedCmp3  \\\n",
      "0  04-09-2012       58       635  ...                  7             0   \n",
      "1  08-03-2014       38        11  ...                  5             0   \n",
      "2  21-08-2013       26       426  ...                  4             0   \n",
      "3  10-02-2014       26        11  ...                  6             0   \n",
      "4  19-01-2014       94       173  ...                  5             0   \n",
      "\n",
      "   AcceptedCmp4  AcceptedCmp5  AcceptedCmp1  AcceptedCmp2  Complain  \\\n",
      "0             0             0             0             0         0   \n",
      "1             0             0             0             0         0   \n",
      "2             0             0             0             0         0   \n",
      "3             0             0             0             0         0   \n",
      "4             0             0             0             0         0   \n",
      "\n",
      "   Z_CostContact  Z_Revenue  Response  \n",
      "0              3         11         1  \n",
      "1              3         11         0  \n",
      "2              3         11         0  \n",
      "3              3         11         0  \n",
      "4              3         11         0  \n",
      "\n",
      "[5 rows x 29 columns]\n",
      "<class 'pandas.core.frame.DataFrame'>\n",
      "RangeIndex: 2240 entries, 0 to 2239\n",
      "Data columns (total 29 columns):\n",
      " #   Column               Non-Null Count  Dtype  \n",
      "---  ------               --------------  -----  \n",
      " 0   ID                   2240 non-null   int64  \n",
      " 1   Year_Birth           2240 non-null   int64  \n",
      " 2   Education            2240 non-null   object \n",
      " 3   Marital_Status       2240 non-null   object \n",
      " 4   Income               2216 non-null   float64\n",
      " 5   Kidhome              2240 non-null   int64  \n",
      " 6   Teenhome             2240 non-null   int64  \n",
      " 7   Dt_Customer          2240 non-null   object \n",
      " 8   Recency              2240 non-null   int64  \n",
      " 9   MntWines             2240 non-null   int64  \n",
      " 10  MntFruits            2240 non-null   int64  \n",
      " 11  MntMeatProducts      2240 non-null   int64  \n",
      " 12  MntFishProducts      2240 non-null   int64  \n",
      " 13  MntSweetProducts     2240 non-null   int64  \n",
      " 14  MntGoldProds         2240 non-null   int64  \n",
      " 15  NumDealsPurchases    2240 non-null   int64  \n",
      " 16  NumWebPurchases      2240 non-null   int64  \n",
      " 17  NumCatalogPurchases  2240 non-null   int64  \n",
      " 18  NumStorePurchases    2240 non-null   int64  \n",
      " 19  NumWebVisitsMonth    2240 non-null   int64  \n",
      " 20  AcceptedCmp3         2240 non-null   int64  \n",
      " 21  AcceptedCmp4         2240 non-null   int64  \n",
      " 22  AcceptedCmp5         2240 non-null   int64  \n",
      " 23  AcceptedCmp1         2240 non-null   int64  \n",
      " 24  AcceptedCmp2         2240 non-null   int64  \n",
      " 25  Complain             2240 non-null   int64  \n",
      " 26  Z_CostContact        2240 non-null   int64  \n",
      " 27  Z_Revenue            2240 non-null   int64  \n",
      " 28  Response             2240 non-null   int64  \n",
      "dtypes: float64(1), int64(25), object(3)\n",
      "memory usage: 507.6+ KB\n",
      "None\n"
     ]
    }
   ],
   "source": [
    "import pandas as pd\n",
    "\n",
    "# Step 1: Load dataset with tab separator\n",
    "df = pd.read_csv(r\"C:\\Users\\LENOVO\\Downloads\\marketing_campaign.csv\", sep=\"\\t\")\n",
    "\n",
    "# Show first 5 rows\n",
    "print(df.head())\n",
    "\n",
    "# Show dataset info\n",
    "print(df.info())\n"
   ]
  },
  {
   "cell_type": "code",
   "execution_count": 10,
   "id": "124cf755-0f01-4970-98d8-fc82c449e717",
   "metadata": {},
   "outputs": [
    {
     "name": "stdout",
     "output_type": "stream",
     "text": [
      "    Income  Total_Spending\n",
      "0  58138.0            1617\n",
      "1  46344.0              27\n",
      "2  71613.0             776\n",
      "3  26646.0              53\n",
      "4  58293.0             422\n"
     ]
    }
   ],
   "source": [
    "# Step 2: Feature Selection & Cleaning\n",
    "\n",
    "# Missing income values hata diye\n",
    "df = df.dropna(subset=['Income'])\n",
    "\n",
    "# Har customer ka total spending calculate kiya (wines, fruits, meat, fish, sweets, gold)\n",
    "df['Total_Spending'] = df[['MntWines', 'MntFruits', 'MntMeatProducts', \n",
    "                           'MntFishProducts', 'MntSweetProducts', \n",
    "                           'MntGoldProds']].sum(axis=1)\n",
    "\n",
    "# Clustering ke liye sirf income aur total spending rakha\n",
    "X = df[['Income', 'Total_Spending']]\n",
    "\n",
    "# Thoda sa data dekh lete hain\n",
    "print(X.head())\n"
   ]
  },
  {
   "cell_type": "code",
   "execution_count": 11,
   "id": "d7783c1b-1d3e-4ab7-b7a9-254f83326e00",
   "metadata": {},
   "outputs": [
    {
     "name": "stdout",
     "output_type": "stream",
     "text": [
      "[[ 0.2340627   1.67548812]\n",
      " [-0.23455948 -0.96235832]\n",
      " [ 0.76947764  0.28024985]\n",
      " [-1.01723878 -0.91922372]\n",
      " [ 0.24022146 -0.30704427]]\n"
     ]
    }
   ],
   "source": [
    "# Step 3: Scaling\n",
    "\n",
    "from sklearn.preprocessing import StandardScaler\n",
    "\n",
    "# Scaling kiya income aur spending ko\n",
    "scaler = StandardScaler()\n",
    "X_scaled = scaler.fit_transform(X)\n",
    "\n",
    "# Pehle 5 rows check kar lete hain\n",
    "print(X_scaled[:5])\n"
   ]
  },
  {
   "cell_type": "code",
   "execution_count": 12,
   "id": "5d4f8203-11c6-41ba-ae10-e8934421d79b",
   "metadata": {},
   "outputs": [
    {
     "name": "stdout",
     "output_type": "stream",
     "text": [
      "                Income  Total_Spending\n",
      "Cluster                               \n",
      "0         34965.902203      129.317181\n",
      "1         78467.276995     1596.117371\n",
      "2         64220.006116      792.807339\n",
      "3        666666.000000       62.000000\n"
     ]
    }
   ],
   "source": [
    "# Step 4: Clustering (KMeans)\n",
    "\n",
    "from sklearn.cluster import KMeans\n",
    "\n",
    "# 4 clusters try kar rahe hain\n",
    "kmeans = KMeans(n_clusters=4, random_state=42)\n",
    "df['Cluster'] = kmeans.fit_predict(X_scaled)\n",
    "\n",
    "# Har cluster ka thoda summary dekhte hain\n",
    "print(df.groupby('Cluster')[['Income', 'Total_Spending']].mean())\n"
   ]
  },
  {
   "cell_type": "code",
   "execution_count": 13,
   "id": "0d52c54f-8c51-4c7e-91a7-834b24f87bf0",
   "metadata": {},
   "outputs": [
    {
     "data": {
      "image/png": "[encoded data removed]",
      "text/plain": [
       "<Figure size 800x600 with 1 Axes>"
      ]
     },
     "metadata": {},
     "output_type": "display_data"
    }
   ],
   "source": [
    "# Step 5: Visualization\n",
    "\n",
    "import matplotlib.pyplot as plt\n",
    "\n",
    "plt.figure(figsize=(8,6))\n",
    "\n",
    "# Cluster points plot kar diye\n",
    "plt.scatter(X_scaled[:,0], X_scaled[:,1], c=df['Cluster'], cmap='viridis', alpha=0.6)\n",
    "\n",
    "# Cluster centers plot kar diye (red color)\n",
    "centers = kmeans.cluster_centers_\n",
    "plt.scatter(centers[:,0], centers[:,1], c='red', s=200, marker='X')\n",
    "\n",
    "plt.xlabel(\"Income (scaled)\")\n",
    "plt.ylabel(\"Total Spending (scaled)\")\n",
    "plt.title(\"Customer Segments\")\n",
    "plt.show()\n"
   ]
  },
  {
   "cell_type": "code",
   "execution_count": 15,
   "id": "cad15859-eb86-47ff-911c-f2ad6d7d3f7f",
   "metadata": {},
   "outputs": [
    {
     "name": "stdout",
     "output_type": "stream",
     "text": [
      "Index(['ID', 'Year_Birth', 'Education', 'Marital_Status', 'Income', 'Kidhome',\n",
      "       'Teenhome', 'Dt_Customer', 'Recency', 'MntWines', 'MntFruits',\n",
      "       'MntMeatProducts', 'MntFishProducts', 'MntSweetProducts',\n",
      "       'MntGoldProds', 'NumDealsPurchases', 'NumWebPurchases',\n",
      "       'NumCatalogPurchases', 'NumStorePurchases', 'NumWebVisitsMonth',\n",
      "       'AcceptedCmp3', 'AcceptedCmp4', 'AcceptedCmp5', 'AcceptedCmp1',\n",
      "       'AcceptedCmp2', 'Complain', 'Z_CostContact', 'Z_Revenue', 'Response',\n",
      "       'Total_Spending', 'Cluster'],\n",
      "      dtype='object')\n"
     ]
    }
   ],
   "source": [
    "print(df.columns)\n",
    "\n"
   ]
  },
  {
   "cell_type": "code",
   "execution_count": 16,
   "id": "48376276-77de-41c7-9e86-7fb3f750ae89",
   "metadata": {},
   "outputs": [
    {
     "name": "stdout",
     "output_type": "stream",
     "text": [
      "\n",
      "🔹 Cluster 0\n",
      "Average Income: 34965.9\n",
      "Average Total Spending: 129.32\n",
      "→ Medium income/spending: Balanced or average customers.\n",
      "\n",
      "🔹 Cluster 1\n",
      "Average Income: 78467.28\n",
      "Average Total Spending: 1596.12\n",
      "→ High income, high spending: Likely luxury or premium customers.\n",
      "\n",
      "🔹 Cluster 2\n",
      "Average Income: 64220.01\n",
      "Average Total Spending: 792.81\n",
      "→ Medium income/spending: Balanced or average customers.\n",
      "\n",
      "🔹 Cluster 3\n",
      "Average Income: 666666.0\n",
      "Average Total Spending: 62.0\n",
      "→ High income, low spending: Cautious or conservative spenders.\n"
     ]
    }
   ],
   "source": [
    "# Group by Cluster and calculate average Income & Total Spending\n",
    "cluster_summary = df.groupby('Cluster')[['Income', 'Total_Spending']].mean().round(2)\n",
    "\n",
    "# Display insights for each cluster\n",
    "for cluster in cluster_summary.index:\n",
    "    income = cluster_summary.loc[cluster, 'Income']\n",
    "    spending = cluster_summary.loc[cluster, 'Total_Spending']\n",
    "\n",
    "    print(f\"\\n🔹 Cluster {cluster}\")\n",
    "    print(f\"Average Income: {income}\")\n",
    "    print(f\"Average Total Spending: {spending}\")\n",
    "\n",
    "    # Simple, student-style explanation based on values\n",
    "    if income >= 70000 and spending >= 800:\n",
    "        print(\"→ High income, high spending: Likely luxury or premium customers.\")\n",
    "    elif income <= 30000 and spending <= 400:\n",
    "        print(\"→ Low income, low spending: Budget-conscious or inactive customers.\")\n",
    "    elif income >= 60000 and spending <= 400:\n",
    "        print(\"→ High income, low spending: Cautious or conservative spenders.\")\n",
    "    elif income <= 30000 and spending >= 700:\n",
    "        print(\"→ Low income, high spending: Possibly impulsive or aspirational buyers.\")\n",
    "    else:\n",
    "        print(\"→ Medium income/spending: Balanced or average customers.\")\n"
   ]
  },
  {
   "cell_type": "code",
   "execution_count": 19,
   "id": "b8b758b2-2538-4aae-b9db-b7abb77fe031",
   "metadata": {},
   "outputs": [
    {
     "name": "stdout",
     "output_type": "stream",
     "text": [
      "Cluster-wise Income and Spending statistics:\n",
      "\n",
      "           Income                     Total_Spending            \n",
      "             mean       min       max           mean   min   max\n",
      "Cluster                                                         \n",
      "0         34965.9    1730.0   61923.0          129.3     5   839\n",
      "1         78467.3   48192.0  160803.0         1596.1  1062  2525\n",
      "2         64220.0    2447.0  162397.0          792.8     6  1730\n",
      "3        666666.0  666666.0  666666.0           62.0    62    62\n"
     ]
    }
   ],
   "source": [
    "# Cluster-wise detailed statistics for Income and Total Spending\n",
    "cluster_details = df.groupby('Cluster')[['Income', 'Total_Spending']].agg(['mean', 'min', 'max']).round(1)\n",
    "\n",
    "print(\"Cluster-wise Income and Spending statistics:\\n\")\n",
    "print(cluster_details)\n",
    "\n"
   ]
  },
  {
   "cell_type": "code",
   "execution_count": 20,
   "id": "0166b9c2-ad09-4d24-89ad-8c886fc8be4b",
   "metadata": {},
   "outputs": [
    {
     "name": "stdout",
     "output_type": "stream",
     "text": [
      "DBSCAN cluster counts:\n",
      "\n",
      "DBSCAN_Cluster\n",
      " 0    2206\n",
      "-1      10\n",
      "Name: count, dtype: int64\n"
     ]
    }
   ],
   "source": [
    "from sklearn.cluster import DBSCAN\n",
    "\n",
    "# DBSCAN clustering apply karo scaled data pe\n",
    "db = DBSCAN(eps=0.5, min_samples=5)\n",
    "df['DBSCAN_Cluster'] = db.fit_predict(X_scaled)\n",
    "\n",
    "# Har cluster me kitne customers hain dekhte hain\n",
    "print(\"DBSCAN cluster counts:\\n\")\n",
    "print(df['DBSCAN_Cluster'].value_counts())\n"
   ]
  },
  {
   "cell_type": "code",
   "execution_count": null,
   "id": "268394b2-9dfd-407b-8f7d-ba6cb87a95be",
   "metadata": {},
   "outputs": [],
   "source": []
  }
 ],
 "metadata": {
  "kernelspec": {
   "display_name": "Python 3 (ipykernel)",
   "language": "python",
   "name": "python3"
  },
  "language_info": {
   "codemirror_mode": {
    "name": "ipython",
    "version": 3
   },
   "file_extension": ".py",
   "mimetype": "text/x-python",
   "name": "python",
   "nbconvert_exporter": "python",
   "pygments_lexer": "ipython3",
   "version": "3.12.7"
  }
 },
 "nbformat": 4,
 "nbformat_minor": 5
}
